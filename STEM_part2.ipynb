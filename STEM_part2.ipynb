{
  "nbformat": 4,
  "nbformat_minor": 0,
  "metadata": {
    "colab": {
      "name": "STEM_part2.ipynb",
      "provenance": [],
      "mount_file_id": "1SfTYzKg813-0mLLw6nq7r6hgxOf2pdGu",
      "authorship_tag": "ABX9TyMaitdA6hmq1VKGPJwkUjmp",
      "include_colab_link": true
    },
    "kernelspec": {
      "name": "python3",
      "display_name": "Python 3"
    }
  },
  "cells": [
    {
      "cell_type": "markdown",
      "metadata": {
        "id": "view-in-github",
        "colab_type": "text"
      },
      "source": [
        "<a href=\"https://colab.research.google.com/github/Kmatsu-tokudai/code/blob/master/STEM_part2.ipynb\" target=\"_parent\"><img src=\"https://colab.research.google.com/assets/colab-badge.svg\" alt=\"Open In Colab\"/></a>"
      ]
    },
    {
      "cell_type": "markdown",
      "metadata": {
        "id": "S0QNblqmTtLg"
      },
      "source": [
        "**STEM演習第5回** \n",
        "- Google Colaboratory によるWord2vecの体験\n",
        "\n",
        "\n",
        "\n"
      ]
    },
    {
      "cell_type": "markdown",
      "metadata": {
        "id": "SHv0HtmiYyHy"
      },
      "source": [
        "準備その１（ベクトルを置くディレクトリを用意）"
      ]
    },
    {
      "cell_type": "code",
      "metadata": {
        "id": "E-iGz3jzu2Zj",
        "outputId": "f7553791-f6c5-455c-ef1f-4709339d6039",
        "colab": {
          "base_uri": "https://localhost:8080/",
          "height": 54
        }
      },
      "source": [
        "# Google Drive のマウント\n",
        "from google.colab import drive\n",
        "drive.mount('/content/drive')\n",
        "# vectorディレクトリを作成\n",
        "!mkdir -p \"/content/drive/My Drive/vector\""
      ],
      "execution_count": null,
      "outputs": [
        {
          "output_type": "stream",
          "text": [
            "Drive already mounted at /content/drive; to attempt to forcibly remount, call drive.mount(\"/content/drive\", force_remount=True).\n"
          ],
          "name": "stdout"
        }
      ]
    },
    {
      "cell_type": "markdown",
      "metadata": {
        "id": "w0Ia_xKLY5ZV"
      },
      "source": [
        "準備その２（学習済みベクトルデータをダウンロードしてディレクトリにコピー）"
      ]
    },
    {
      "cell_type": "code",
      "metadata": {
        "id": "6ZOnbwTLT0FV",
        "outputId": "93ecc797-41dc-4eb7-f1fe-d2c2e1d503ab",
        "colab": {
          "base_uri": "https://localhost:8080/",
          "height": 279
        }
      },
      "source": [
        "# Google Driveにファイルをアップロード\n",
        "# 白ヤギコーポレーションから学習済みベクトルモデルをダウンロード\n",
        "!wget http://public.shiroyagi.s3.amazonaws.com/latest-ja-word2vec-gensim-model.zip\n",
        "# 解凍する\n",
        "!unzip latest-ja-word2vec-gensim-model.zip\n",
        "# ファイルをGoogle Driveのvectorディレクトリにコピー\n",
        "!cp word2vec.gensim.* \"/content/drive/My Drive/vector/\""
      ],
      "execution_count": null,
      "outputs": [
        {
          "output_type": "stream",
          "text": [
            "--2020-10-27 04:04:19--  http://public.shiroyagi.s3.amazonaws.com/latest-ja-word2vec-gensim-model.zip\n",
            "Resolving public.shiroyagi.s3.amazonaws.com (public.shiroyagi.s3.amazonaws.com)... 52.219.16.77\n",
            "Connecting to public.shiroyagi.s3.amazonaws.com (public.shiroyagi.s3.amazonaws.com)|52.219.16.77|:80... connected.\n",
            "HTTP request sent, awaiting response... 200 OK\n",
            "Length: 132936751 (127M) [application/zip]\n",
            "Saving to: ‘latest-ja-word2vec-gensim-model.zip’\n",
            "\n",
            "latest-ja-word2vec- 100%[===================>] 126.78M  32.6MB/s    in 4.5s    \n",
            "\n",
            "2020-10-27 04:04:24 (28.1 MB/s) - ‘latest-ja-word2vec-gensim-model.zip’ saved [132936751/132936751]\n",
            "\n",
            "Archive:  latest-ja-word2vec-gensim-model.zip\n",
            "  inflating: word2vec.gensim.model   \n",
            "  inflating: word2vec.gensim.model.syn1neg.npy  \n",
            "  inflating: word2vec.gensim.model.wv.syn0.npy  \n"
          ],
          "name": "stdout"
        }
      ]
    },
    {
      "cell_type": "markdown",
      "metadata": {
        "id": "vDxtdMCFZBq8"
      },
      "source": [
        "gensimライブラリを用いてWord2vecのモデルを読込み、類似語を検索してみる"
      ]
    },
    {
      "cell_type": "code",
      "metadata": {
        "id": "xV5DCy0E8xt8",
        "outputId": "46f56e3c-f2e3-42f2-ef0b-0dd4811787cf",
        "colab": {
          "base_uri": "https://localhost:8080/",
          "height": 192
        }
      },
      "source": [
        "import os\n",
        "import gensim\n",
        "import warnings\n",
        "from gensim.models import Word2Vec\n",
        "\n",
        "warnings.simplefilter('ignore')\n",
        "\n",
        "if not os.path.exists('/content/drive/My Drive/vector/word2vec.gensim.model'):\n",
        "    raise ValueError(\"SKIP: You need to download the word2vec.gensim.model model\")\n",
        "    \n",
        "# 学習済みWord2vecを読込\n",
        "wv = Word2Vec.load(\"/content/drive/My Drive/vector/word2vec.gensim.model\")\n",
        "\n",
        "# 「講義」という単語と類似する語を検索\n",
        "results = wv.most_similar(positive=['講義'])\n",
        "for result in results:\n",
        "    print(result)\n"
      ],
      "execution_count": null,
      "outputs": [
        {
          "output_type": "stream",
          "text": [
            "('講話', 0.7878658175468445)\n",
            "('授業', 0.7650410532951355)\n",
            "('講演', 0.7614888548851013)\n",
            "('講義ノート', 0.7420766949653625)\n",
            "('聴講', 0.7418225407600403)\n",
            "('作文', 0.7344423532485962)\n",
            "('臨床実習', 0.7298046350479126)\n",
            "('個人教授', 0.7268437147140503)\n",
            "('教職', 0.720413088798523)\n",
            "('教育', 0.7202420830726624)\n"
          ],
          "name": "stdout"
        }
      ]
    },
    {
      "cell_type": "markdown",
      "metadata": {
        "id": "hmadNDvYZM0-"
      },
      "source": [
        "単語の足し算・引き算をしてみる"
      ]
    },
    {
      "cell_type": "code",
      "metadata": {
        "id": "A1LmAwQLXW2m",
        "outputId": "fcd25c6c-928c-4c2e-fb09-b132ad0d5fa2",
        "colab": {
          "base_uri": "https://localhost:8080/",
          "height": 192
        }
      },
      "source": [
        "# 単語の意味の足し算・引き算\n",
        "\n",
        "def similar_word(posi, nega=[], n=10):\n",
        "    count = 1\n",
        "    result = wv.most_similar(positive = posi, negative = nega, topn = n)\n",
        "    for r in result:\n",
        "        print(str(count)+\" \"+str(r[0])+\" \"+str(r[1]))\n",
        "        count += 1\n",
        "\n",
        "# 足し算引き算を行う\n",
        "def calc_addition_subtraction(equation):\n",
        "    if \"+\" not in equation or \"-\" not in equation:\n",
        "        similar_word([equation])\n",
        "    else:\n",
        "        posi,nega = [],[]\n",
        "        positives = equation.split(\"+\")\n",
        "        for positive in positives:\n",
        "            negatives = positive.split(\"-\")\n",
        "            posi.append(negatives[0])\n",
        "            nega = nega + negatives[1:]\n",
        "        similar_word(posi = posi, nega = nega)\n",
        "\n",
        "\n",
        "if __name__==\"__main__\":\n",
        "    equation = 'マリオ+ポケモン-ピカチュウ'\n",
        "    calc_addition_subtraction(equation)"
      ],
      "execution_count": null,
      "outputs": [
        {
          "output_type": "stream",
          "text": [
            "1 ジムリーダー 0.7786595821380615\n",
            "2 ヨッシー 0.7650797367095947\n",
            "3 クッパ 0.7615779638290405\n",
            "4 モンスター 0.7608561515808105\n",
            "5 ジョウト地方 0.7531558871269226\n",
            "6 ルイージ 0.7522788643836975\n",
            "7 プレイヤー 0.744318962097168\n",
            "8 プレイヤーキャラクター 0.7404342293739319\n",
            "9 キャラクター 0.7320311665534973\n",
            "10 魔法使い 0.7198766469955444\n"
          ],
          "name": "stdout"
        }
      ]
    },
    {
      "cell_type": "markdown",
      "metadata": {
        "id": "3ecV9v2BZTIm"
      },
      "source": [
        "形態素解析器MeCabライブラリのインストール"
      ]
    },
    {
      "cell_type": "code",
      "metadata": {
        "id": "H54YEwU2vaOh",
        "outputId": "d187c835-435d-4c93-9787-cc982263f59e",
        "colab": {
          "base_uri": "https://localhost:8080/",
          "height": 139
        }
      },
      "source": [
        "# MeCabライブラリのインストール\n",
        "!apt-get -q -y install sudo file mecab libmecab-dev mecab-ipadic-utf8 git curl python-mecab > /dev/null\n",
        "!git clone --depth 1 https://github.com/neologd/mecab-ipadic-neologd.git > /dev/null \n",
        "!echo yes | mecab-ipadic-neologd/bin/install-mecab-ipadic-neologd -n > /dev/null 2>&1\n",
        "!pip install mecab-python3 > /dev/null\n",
        "\n",
        "# シンボリックリンクによるエラー回避\n",
        "!ln -s /etc/mecabrc /usr/local/etc/mecabrc\n",
        "\n",
        "!echo `mecab-config --dicdir`\"/mecab-ipadic-neologd\""
      ],
      "execution_count": null,
      "outputs": [
        {
          "output_type": "stream",
          "text": [
            "Cloning into 'mecab-ipadic-neologd'...\n",
            "remote: Enumerating objects: 75, done.\u001b[K\n",
            "remote: Counting objects: 100% (75/75), done.\u001b[K\n",
            "remote: Compressing objects: 100% (74/74), done.\u001b[K\n",
            "remote: Total 75 (delta 5), reused 54 (delta 0), pack-reused 0\u001b[K\n",
            "Unpacking objects: 100% (75/75), done.\n",
            "/usr/lib/x86_64-linux-gnu/mecab/dic/mecab-ipadic-neologd\n"
          ],
          "name": "stdout"
        }
      ]
    },
    {
      "cell_type": "markdown",
      "metadata": {
        "id": "5HjbSuiLXXcR"
      },
      "source": [
        "文の形態素解析を行い、文間の距離を計算してみる"
      ]
    },
    {
      "cell_type": "code",
      "metadata": {
        "id": "Z-KbNOCSukJw",
        "outputId": "add1f58b-f78f-4958-9479-9efe2fa8194f",
        "colab": {
          "base_uri": "https://localhost:8080/",
          "height": 52
        }
      },
      "source": [
        "# gensimのword mover's distance(wmdistance) モジュールをテスト\n",
        "\n",
        "s1 = '私は学校に行きたいです。'\n",
        "s2 = '彼は大学に登校したいです。'\n",
        "s3 = '私は学校に行きたくないです。'\n",
        "import MeCab\n",
        "\n",
        "mec = MeCab.Tagger()\n",
        "# 形態素解析器による単語への分割\n",
        "# wlistは単語が登録されたリスト\n",
        "def wakati(sen):\n",
        "    node = mec.parseToNode(sen)\n",
        "    wlist = []\n",
        "    while node:\n",
        "        wlist.append(node.surface)\n",
        "        node = node.next\n",
        "    return wlist\n",
        "\n",
        "w1 = wakati(s1)\n",
        "w2 = wakati(s2)\n",
        "w3 = wakati(s3)\n",
        "#print(w1, w2)\n",
        "wmdistance = wv.wmdistance(s1, s2)\n",
        "print('WMD dist({},{})={:.3f}'.format(s1, s2, wmdistance))\n",
        "\n",
        "wmdistance = wv.wmdistance(s1, s3)\n",
        "print('WMD dist({},{})={:.3f}'.format(s1, s3, wmdistance))\n",
        "\n"
      ],
      "execution_count": null,
      "outputs": [
        {
          "output_type": "stream",
          "text": [
            "WMD dist(私は学校に行きたいです。,彼は大学に登校したいです。)=0.378\n",
            "WMD dist(私は学校に行きたいです。,私は学校に行きたくないです。)=0.189\n"
          ],
          "name": "stdout"
        }
      ]
    },
    {
      "cell_type": "markdown",
      "metadata": {
        "id": "OaJO6GDmRq1R"
      },
      "source": [
        "類似語のワードクラウドを作成"
      ]
    },
    {
      "cell_type": "code",
      "metadata": {
        "id": "RqOrMl0KN-Aq",
        "outputId": "3b5e0597-6225-4f63-f069-8593ff89834d",
        "colab": {
          "base_uri": "https://localhost:8080/",
          "height": 271
        }
      },
      "source": [
        "#!pip install japanize-matplotlib\n",
        "import matplotlib.pyplot as plt\n",
        "import japanize_matplotlib\n",
        "# 日本語フォントをダウンロードする。\n",
        "!wget https://noto-website-2.storage.googleapis.com/pkgs/Noto-unhinted.zip\n",
        "!unzip Noto-unhinted.zip\n",
        "\n",
        "!mkdir -p /content/fonts\n",
        "!mv *otf /content/fonts\n",
        "!fc-cache -f -v\n",
        "\n",
        "import wordcloud\n",
        "print(wordcloud.__version__)\n",
        "from wordcloud import WordCloud\n",
        "\n",
        "# 「徳島大学」という単語と類似する語を検索\n",
        "results = wv.most_similar(positive=['徳島大学'])\n",
        "simstr = ''\n",
        "for result in results:\n",
        "    simstr += '{} '.format(result[0])\n",
        "simstr = simstr.rstrip(' ')\n",
        "wordcloud = WordCloud(background_color=\"white\",\n",
        "                      font_path=\"fonts/NotoSansCJKjp-Regular.otf\",\n",
        "                      width=900, height=500).generate(simstr)\n",
        "\n",
        "wordcloud.generate(simstr)\n",
        "plt.imshow(wordcloud)\n",
        "plt.show()\n",
        "plt.savefig(\"./similar_wordcloud.png\")\n"
      ],
      "execution_count": null,
      "outputs": [
        {
          "output_type": "stream",
          "text": [
            "1.5.0\n"
          ],
          "name": "stdout"
        },
        {
          "output_type": "display_data",
          "data": {
            "image/png": "[encoded data removed]",
            "text/plain": [
              "<Figure size 432x288 with 1 Axes>"
            ]
          },
          "metadata": {
            "tags": [],
            "needs_background": "light"
          }
        },
        {
          "output_type": "display_data",
          "data": {
            "text/plain": [
              "<Figure size 432x288 with 0 Axes>"
            ]
          },
          "metadata": {
            "tags": []
          }
        }
      ]
    }
  ]
}